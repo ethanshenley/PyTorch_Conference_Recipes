{
 "cells": [
  {
   "cell_type": "markdown",
   "metadata": {},
   "source": [
    "# Torch Tune Demo\n",
    "\n"
   ]
  },
  {
   "cell_type": "code",
   "execution_count": 1,
   "metadata": {},
   "outputs": [
    {
     "name": "stderr",
     "output_type": "stream",
     "text": [
      "/home/ethan/anaconda3/envs/torchao_demo/lib/python3.10/site-packages/tqdm/auto.py:21: TqdmWarning: IProgress not found. Please update jupyter and ipywidgets. See https://ipywidgets.readthedocs.io/en/stable/user_install.html\n",
      "  from .autonotebook import tqdm as notebook_tqdm\n"
     ]
    }
   ],
   "source": [
    "import sys\n",
    "import yaml\n",
    "from typing import Dict, Any\n",
    "import torch\n",
    "import torchtune\n",
    "from torchtune.models.llama2 import llama2_7b"
   ]
  },
  {
   "cell_type": "markdown",
   "metadata": {},
   "source": [
    "### Define a configuration (this would typically be in a YAML file)"
   ]
  },
  {
   "cell_type": "code",
   "execution_count": null,
   "metadata": {},
   "outputs": [],
   "source": [
    "# YAML configuration defines parameters for the model, dataset, training, and hardware\n",
    "config_yaml = \"\"\"\n",
    "model:\n",
    "  name: \"llama2_7b\"\n",
    "  pretrained: true\n",
    "dataset:\n",
    "  name: \"alpaca\"\n",
    "  split: \"train[:1000]\"\n",
    "training:\n",
    "  batch_size: 4\n",
    "  learning_rate: 1e-4\n",
    "  num_epochs: 3\n",
    "  max_seq_length: 128\n",
    "  weight_decay: 0.01\n",
    "  warmup_steps: 100\n",
    "hardware:\n",
    "  device: \"cpu\"\n",
    "  dtype: \"float32\"\n",
    "\"\"\"\n",
    "\n",
    "# Save the YAML to a file\n",
    "with open('config.yaml', 'w') as f:\n",
    "    f.write(config_yaml)\n",
    "\n",
    "# simulate the command-line argument parsing\n",
    "sys.argv = ['ipykernel_launcher.py', '--config', 'config.yaml']\n",
    "\n",
    "# Load the configuration\n",
    "with open('config.yaml', 'r') as f:\n",
    "    config = yaml.safe_load(f)"
   ]
  },
  {
   "cell_type": "markdown",
   "metadata": {},
   "source": [
    "### Parse the configuration"
   ]
  },
  {
   "cell_type": "code",
   "execution_count": 3,
   "metadata": {},
   "outputs": [],
   "source": [
    "def main(cfg: Dict[str, Any]):\n",
    "    # Set up the device and dtype\n",
    "    # Torch Tune allows you to specify the hardware and data type for training.\n",
    "    device = torch.device(cfg['hardware']['device'])\n",
    "    dtype = getattr(torch, cfg['hardware']['dtype'])\n",
    "\n",
    "    # Initialize the model\n",
    "    model = llama2_7b()  # Torch Tune is creating a Llama2 7B model.\n",
    "    model.to(device=device, dtype=dtype)\n",
    "\n",
    "    # Prepare the dataset \n",
    "    # Torchtune isloading the Alpaca dataset and setting up a DataLoader \n",
    "    # with specific collation function for sequence-to-sequence fine-tuning (SFT).\n",
    "    dataset = torchtune.datasets.alpaca_dataset(**cfg['dataset'])\n",
    "    dataloader = torch.utils.data.DataLoader(\n",
    "        dataset,\n",
    "        batch_size=cfg['training']['batch_size'],\n",
    "        collate_fn=torchtune.data.padded_collate_sft,\n",
    "        shuffle=True\n",
    "    )\n",
    "\n",
    "    # Set up the optimizer\n",
    "    optimizer = torch.optim.AdamW(\n",
    "        model.parameters(),\n",
    "        lr=cfg['training']['learning_rate'],\n",
    "        weight_decay=cfg['training']['weight_decay']\n",
    "    )\n",
    "\n",
    "    # simple training loop\n",
    "    for epoch in range(cfg['training']['num_epochs']):\n",
    "        for batch in dataloader:\n",
    "            batch = {k: v.to(device) for k, v in batch.items()}\n",
    "            outputs = model(**batch)\n",
    "            loss = outputs.loss\n",
    "            loss.backward()\n",
    "            optimizer.step()\n",
    "            optimizer.zero_grad()\n",
    "            print(f\"Epoch {epoch+1}, Loss: {loss.item()}\")\n",
    "\n",
    "    # Save the fine-tuned model\n",
    "    torch.save(model.state_dict(), \"fine_tuned_model.pt\")\n",
    "    print(\"Fine-tuning complete!\")\n",
    "\n",
    "# Run the main function\n",
    "main(config)"
   ]
  },
  {
   "cell_type": "markdown",
   "metadata": {},
   "source": [
    "## So what is TorchTune doing?\n",
    "\n",
    "- It is providing a standardized way to configure and set up fine-tuning jobs.\n",
    "- Allows us to use pre-built model architectures (like Llama2) that are ready for fine-tuning.\n",
    "- Simplifies dataset loading and preparation.\n",
    "- Handles the complexities of working with large language models, including proper input formatting and output processing.\n",
    "- Allows for easy configuration of training parameters, hardware usage, and data types."
   ]
  }
 ],
 "metadata": {
  "kernelspec": {
   "display_name": "torchao_demo",
   "language": "python",
   "name": "python3"
  },
  "language_info": {
   "codemirror_mode": {
    "name": "ipython",
    "version": 3
   },
   "file_extension": ".py",
   "mimetype": "text/x-python",
   "name": "python",
   "nbconvert_exporter": "python",
   "pygments_lexer": "ipython3",
   "version": "3.10.14"
  }
 },
 "nbformat": 4,
 "nbformat_minor": 2
}
