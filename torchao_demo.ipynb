{
 "cells": [
  {
   "cell_type": "markdown",
   "metadata": {},
   "source": [
    "# TorchAO Demo\n",
    "\n",
    "This notebook demonstrates using TorchAO in optimizing a BERT model for inference. This is mainly meant to show off the ease with which AO is performed with this library, not excplicitly results given that I am on a CPU system and almost all training & inference memory performance gains are seen on GPU. "
   ]
  },
  {
   "cell_type": "code",
   "execution_count": 60,
   "metadata": {},
   "outputs": [],
   "source": [
    "import torch\n",
    "from transformers import AutoTokenizer, AutoModelForSequenceClassification\n",
    "from torchao.quantization import quantize_, int8_weight_only\n",
    "import time\n",
    "import psutil\n",
    "import numpy as np\n",
    "\n",
    "def get_memory_usage():\n",
    "    return psutil.Process().memory_info().rss / 1024 / 1024  # in MB\n",
    "\n",
    "def run_inference(model, inputs, num_runs=10):\n",
    "    start_time = time.time()\n",
    "    for _ in range(num_runs):\n",
    "        with torch.no_grad():\n",
    "            outputs = model(**inputs)\n",
    "    end_time = time.time()\n",
    "    return (end_time - start_time) / num_runs"
   ]
  },
  {
   "cell_type": "markdown",
   "metadata": {},
   "source": [
    "## Load Model and Prepare Data\n",
    "We'll use BERT-large and prepare a batch of 300 samples for inference."
   ]
  },
  {
   "cell_type": "code",
   "execution_count": 61,
   "metadata": {},
   "outputs": [
    {
     "name": "stdout",
     "output_type": "stream",
     "text": [
      "Loading bert-large-uncased...\n"
     ]
    },
    {
     "name": "stderr",
     "output_type": "stream",
     "text": [
      "Some weights of BertForSequenceClassification were not initialized from the model checkpoint at bert-large-uncased and are newly initialized: ['classifier.bias', 'classifier.weight']\n",
      "You should probably TRAIN this model on a down-stream task to be able to use it for predictions and inference.\n"
     ]
    },
    {
     "name": "stdout",
     "output_type": "stream",
     "text": [
      "Preparing input data...\n"
     ]
    }
   ],
   "source": [
    "# Load model and tokenizer\n",
    "model_name = \"bert-large-uncased\"\n",
    "print(f\"Loading {model_name}...\")\n",
    "tokenizer = AutoTokenizer.from_pretrained(model_name)\n",
    "model = AutoModelForSequenceClassification.from_pretrained(model_name, num_labels=2)\n",
    "\n",
    "# Prepare input (larger batch size)\n",
    "print(\"Preparing input data...\")\n",
    "texts = [\n",
    "    \"TorchAO is an amazing library for optimizing PyTorch models.\",\n",
    "    \"The weather is beautiful today.\",\n",
    "    \"Machine learning is transforming various industries.\"\n",
    "] * 100  # 300 samples\n",
    "inputs = tokenizer(texts, return_tensors=\"pt\", padding=True, truncation=True)"
   ]
  },
  {
   "cell_type": "markdown",
   "metadata": {},
   "source": [
    "## Baseline Model\n",
    "\n",
    "Let's first measure the performance of the baseline model."
   ]
  },
  {
   "cell_type": "code",
   "execution_count": null,
   "metadata": {},
   "outputs": [],
   "source": [
    "print(\"\\nRunning baseline model...\")\n",
    "baseline_memory = get_memory_usage()\n",
    "baseline_time = run_inference(model, inputs)\n",
    "print(f\"Baseline - Time: {baseline_time:.4f}s, Memory: {baseline_memory:.2f}MB\")"
   ]
  },
  {
   "cell_type": "markdown",
   "metadata": {},
   "source": [
    "## Int8 Weight-Only Quantization\n",
    "\n",
    "Now, let's apply TorchAO's int8 weight-only quantization and measure its performance."
   ]
  },
  {
   "cell_type": "code",
   "execution_count": null,
   "metadata": {},
   "outputs": [],
   "source": [
    "print(\"\\nRunning int8 weight-only quantized model...\")\n",
    "model_int8 = AutoModelForSequenceClassification.from_pretrained(model_name, num_labels=2)\n",
    "quantize_(model_int8, int8_weight_only())\n",
    "int8_memory = get_memory_usage()\n",
    "int8_time = run_inference(model_int8, inputs)\n",
    "print(f\"Int8 Weight-Only - Time: {int8_time:.4f}s, Memory: {int8_memory:.2f}MB\")"
   ]
  },
  {
   "cell_type": "markdown",
   "metadata": {},
   "source": [
    "## Dynamic Quantization\n",
    "\n",
    "For comparison, let's also try PyTorch's dynamic quantization."
   ]
  },
  {
   "cell_type": "code",
   "execution_count": null,
   "metadata": {},
   "outputs": [],
   "source": [
    "print(\"\\nRunning dynamically quantized model...\")\n",
    "model_dynamic = torch.quantization.quantize_dynamic(model, {torch.nn.Linear}, dtype=torch.qint8)\n",
    "dynamic_memory = get_memory_usage()\n",
    "dynamic_time = run_inference(model_dynamic, inputs)\n",
    "print(f\"Dynamic Quantization - Time: {dynamic_time:.4f}s, Memory: {dynamic_memory:.2f}MB\")"
   ]
  },
  {
   "cell_type": "markdown",
   "metadata": {},
   "source": [
    "## Performance Comparison\n",
    "\n",
    "Let's compare the performance improvements of both quantization methods."
   ]
  },
  {
   "cell_type": "code",
   "execution_count": 65,
   "metadata": {},
   "outputs": [
    {
     "name": "stdout",
     "output_type": "stream",
     "text": [
      "\n",
      "Performance Improvements:\n",
      "Int8 weight-only speedup: 0.87x\n",
      "Int8 weight-only memory reduction: 0.57x\n",
      "Dynamic quantization speedup: 2.79x\n",
      "Dynamic quantization memory reduction: 0.43x\n"
     ]
    }
   ],
   "source": [
    "print(\"\\nPerformance Improvements:\")\n",
    "print(f\"Int8 weight-only speedup: {baseline_time / int8_time:.2f}x\")\n",
    "print(f\"Int8 weight-only memory reduction: {baseline_memory / int8_memory:.2f}x\")\n",
    "print(f\"Dynamic quantization speedup: {baseline_time / dynamic_time:.2f}x\")\n",
    "print(f\"Dynamic quantization memory reduction: {baseline_memory / dynamic_memory:.2f}x\")"
   ]
  }
 ],
 "metadata": {
  "kernelspec": {
   "display_name": "torchao_demo",
   "language": "python",
   "name": "python3"
  },
  "language_info": {
   "codemirror_mode": {
    "name": "ipython",
    "version": 3
   },
   "file_extension": ".py",
   "mimetype": "text/x-python",
   "name": "python",
   "nbconvert_exporter": "python",
   "pygments_lexer": "ipython3",
   "version": "3.10.14"
  }
 },
 "nbformat": 4,
 "nbformat_minor": 2
}
